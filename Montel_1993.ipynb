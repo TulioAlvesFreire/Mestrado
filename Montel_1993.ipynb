{
 "cells": [
  {
   "cell_type": "markdown",
   "metadata": {},
   "source": [
    "# Modelo Composicional de Montel (1993)"
   ]
  },
  {
   "cell_type": "markdown",
   "metadata": {},
   "source": [
    "Montel propôs um modelo composicional para o petróleo utilizando 2 parâmetros (\\\\(\\alpha\\\\) e \\\\(\\beta\\\\)).\n",
    "\n",
    "No modelo proposto a composição real do petróleo foi simplificada para uma mistura de 12 hidrocarbonetos individuais (C1, C2, C3, iC4, nC4, iC5, nC5, nC6, nC7, nC8, nC9, nC10) e 2 pseudocomponentes pesados denominados Cn1 (C11 - C25) e Cn2 (C26+).\n",
    "\n",
    "Essa representação é uma simplificação considerável da realidade complexa da composição do petróleo, mas o modelo abrange toda a gama de pesos moleculares dos componentes do óleo, dos mais leves aos mais pesados.\n",
    "\n",
    "Em seguida, os valores das frações molares de 14 componentes da mistura de hidrocarbonetos podem ser definidos.\n",
    "\n",
    "Felizmente, como é sabido, a distribuição de componentes de óleo não é arbitrária. Como mostrado por Kissin (1987), as frações molares de parafinas normais de alto peso molecular (número de carbono acima de 6-8) seguem uma lei geométrica.\n",
    "\n",
    "Tal característica é levada em consideração no presente modelo: frações molares de moléculas com mais de seis átomos de carbono obedecem a uma lei geométrica de expoente \\\\(\\alpha\\\\).\n",
    "\n",
    "No entanto, esta lei não se aplica aos componentes leves (metano ao hexano), pois essas moléculas estão presentes geralmente em quantidades muito maiores do que aquelas fornecidas por uma extrapolação da lei geométrica.\n",
    "\n",
    "Esse enriquecimento em componentes leves é altamente variável em óleos naturais (é fraco para óleos pesados e mais forte para óleos leves) e deve ser descrito por um segundo parâmetro, denominado \\\\(\\beta\\\\).\n",
    "\n",
    "O parâmetro \\\\(\\beta\\\\) aceita valores entre 0 e 1.\n",
    "\n",
    "O caso limite (\\\\(\\beta=0\\\\)) corresponde a um fluido, cujas frações molares são inteiramente descritas pela lei geométrica de razão \\\\(\\alpha\\\\).\n",
    "\n",
    "O outro caso limite (\\\\(\\beta=1\\\\)) corresponde a um fluido de metano puro.\n",
    "\n",
    "Outras correções empíricas estão incluídas no modelo, principalmente para levar em consideração a abundância relativa de compostos com 6 a 8 átomos de carbono (isto é, moléculas que podem ser produzidas pela degradação dos ciclos naftênicos ou aromáticos da matéria orgânica). \n",
    "\n",
    "No entanto, nenhum parâmetro adicional é necessário para esta correção."
   ]
  }
 ],
 "metadata": {
  "kernelspec": {
   "display_name": "Python 3",
   "language": "python",
   "name": "python3"
  },
  "language_info": {
   "codemirror_mode": {
    "name": "ipython",
    "version": 3
   },
   "file_extension": ".py",
   "mimetype": "text/x-python",
   "name": "python",
   "nbconvert_exporter": "python",
   "pygments_lexer": "ipython3",
   "version": "3.7.3"
  }
 },
 "nbformat": 4,
 "nbformat_minor": 4
}
