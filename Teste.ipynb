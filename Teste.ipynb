# TEste

import numpy

print "HEllo Wolrd"


